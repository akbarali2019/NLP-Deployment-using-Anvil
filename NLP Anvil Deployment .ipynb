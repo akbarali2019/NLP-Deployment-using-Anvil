{
 "cells": [
  {
   "cell_type": "code",
   "execution_count": 1,
   "id": "dde4df46",
   "metadata": {
    "collapsed": true
   },
   "outputs": [
    {
     "name": "stdout",
     "output_type": "stream",
     "text": [
      "Looking in indexes: https://pypi.org/simple, https://download.pytorch.org/whl/cu113\n",
      "Requirement already satisfied: torch in c:\\users\\admin\\environment\\inje\\lib\\site-packages (1.8.2+cu111)\n",
      "Requirement already satisfied: torchvision in c:\\users\\admin\\environment\\inje\\lib\\site-packages (0.9.2+cu111)\n",
      "Requirement already satisfied: torchaudio in c:\\users\\admin\\environment\\inje\\lib\\site-packages (0.8.2)\n",
      "Requirement already satisfied: typing-extensions in c:\\users\\admin\\environment\\inje\\lib\\site-packages (from torch) (3.7.4.3)\n",
      "Requirement already satisfied: numpy in c:\\users\\admin\\environment\\inje\\lib\\site-packages (from torch) (1.19.5)\n",
      "Requirement already satisfied: pillow>=4.1.1 in c:\\users\\admin\\environment\\inje\\lib\\site-packages (from torchvision) (9.0.1)\n"
     ]
    },
    {
     "name": "stderr",
     "output_type": "stream",
     "text": [
      "WARNING: You are using pip version 22.0.4; however, version 22.1.2 is available.\n",
      "You should consider upgrading via the 'c:\\users\\admin\\environment\\inje\\scripts\\python.exe -m pip install --upgrade pip' command.\n"
     ]
    }
   ],
   "source": [
    "# Pytorch install\n",
    "!pip3 install torch torchvision torchaudio --extra-index-url https://download.pytorch.org/whl/cu113"
   ]
  },
  {
   "cell_type": "code",
   "execution_count": 2,
   "id": "487397f5",
   "metadata": {
    "collapsed": true
   },
   "outputs": [
    {
     "name": "stdout",
     "output_type": "stream",
     "text": [
      "Requirement already satisfied: transformers in c:\\users\\admin\\environment\\inje\\lib\\site-packages (4.19.2)\n",
      "Requirement already satisfied: regex!=2019.12.17 in c:\\users\\admin\\environment\\inje\\lib\\site-packages (from transformers) (2022.6.2)\n",
      "Requirement already satisfied: requests in c:\\users\\admin\\environment\\inje\\lib\\site-packages (from transformers) (2.27.1)\n",
      "Requirement already satisfied: packaging>=20.0 in c:\\users\\admin\\environment\\inje\\lib\\site-packages (from transformers) (21.3)\n",
      "Requirement already satisfied: numpy>=1.17 in c:\\users\\admin\\environment\\inje\\lib\\site-packages (from transformers) (1.19.5)\n",
      "Requirement already satisfied: huggingface-hub<1.0,>=0.1.0 in c:\\users\\admin\\environment\\inje\\lib\\site-packages (from transformers) (0.7.0)\n",
      "Requirement already satisfied: filelock in c:\\users\\admin\\environment\\inje\\lib\\site-packages (from transformers) (3.6.0)\n",
      "Requirement already satisfied: tokenizers!=0.11.3,<0.13,>=0.11.1 in c:\\users\\admin\\environment\\inje\\lib\\site-packages (from transformers) (0.12.1)\n",
      "Requirement already satisfied: tqdm>=4.27 in c:\\users\\admin\\environment\\inje\\lib\\site-packages (from transformers) (4.63.0)\n",
      "Requirement already satisfied: pyyaml>=5.1 in c:\\users\\admin\\environment\\inje\\lib\\site-packages (from transformers) (6.0)\n",
      "Requirement already satisfied: typing-extensions>=3.7.4.3 in c:\\users\\admin\\environment\\inje\\lib\\site-packages (from huggingface-hub<1.0,>=0.1.0->transformers) (3.7.4.3)\n",
      "Requirement already satisfied: pyparsing!=3.0.5,>=2.0.2 in c:\\users\\admin\\environment\\inje\\lib\\site-packages (from packaging>=20.0->transformers) (3.0.7)\n",
      "Requirement already satisfied: colorama in c:\\users\\admin\\environment\\inje\\lib\\site-packages (from tqdm>=4.27->transformers) (0.4.4)\n",
      "Requirement already satisfied: charset-normalizer~=2.0.0 in c:\\users\\admin\\environment\\inje\\lib\\site-packages (from requests->transformers) (2.0.12)\n",
      "Requirement already satisfied: urllib3<1.27,>=1.21.1 in c:\\users\\admin\\environment\\inje\\lib\\site-packages (from requests->transformers) (1.26.8)\n",
      "Requirement already satisfied: idna<4,>=2.5 in c:\\users\\admin\\environment\\inje\\lib\\site-packages (from requests->transformers) (3.3)\n",
      "Requirement already satisfied: certifi>=2017.4.17 in c:\\users\\admin\\environment\\inje\\lib\\site-packages (from requests->transformers) (2021.10.8)\n"
     ]
    },
    {
     "name": "stderr",
     "output_type": "stream",
     "text": [
      "WARNING: You are using pip version 22.0.4; however, version 22.1.2 is available.\n",
      "You should consider upgrading via the 'c:\\users\\admin\\environment\\inje\\scripts\\python.exe -m pip install --upgrade pip' command.\n"
     ]
    }
   ],
   "source": [
    "# Install transformers\n",
    "!pip install transformers"
   ]
  },
  {
   "cell_type": "code",
   "execution_count": 3,
   "id": "fff227a3",
   "metadata": {},
   "outputs": [],
   "source": [
    "# Importing the dependencies for the RoBERTa model\n",
    "from transformers import AutoModelForQuestionAnswering, AutoTokenizer, pipeline"
   ]
  },
  {
   "cell_type": "code",
   "execution_count": 4,
   "id": "78e439ca",
   "metadata": {},
   "outputs": [
    {
     "data": {
      "application/vnd.jupyter.widget-view+json": {
       "model_id": "1b9f0e3cd4a6451d921144a17f28a9c6",
       "version_major": 2,
       "version_minor": 0
      },
      "text/plain": [
       "Downloading:   0%|          | 0.00/571 [00:00<?, ?B/s]"
      ]
     },
     "metadata": {},
     "output_type": "display_data"
    },
    {
     "data": {
      "application/vnd.jupyter.widget-view+json": {
       "model_id": "5c956a3166a945228dc78963fa674bf1",
       "version_major": 2,
       "version_minor": 0
      },
      "text/plain": [
       "Downloading:   0%|          | 0.00/473M [00:00<?, ?B/s]"
      ]
     },
     "metadata": {},
     "output_type": "display_data"
    },
    {
     "data": {
      "application/vnd.jupyter.widget-view+json": {
       "model_id": "42bdd34648ea414b8d3649c400d83d8e",
       "version_major": 2,
       "version_minor": 0
      },
      "text/plain": [
       "Downloading:   0%|          | 0.00/79.0 [00:00<?, ?B/s]"
      ]
     },
     "metadata": {},
     "output_type": "display_data"
    },
    {
     "data": {
      "application/vnd.jupyter.widget-view+json": {
       "model_id": "b167a87b958d4b1ab613ee138d9234c6",
       "version_major": 2,
       "version_minor": 0
      },
      "text/plain": [
       "Downloading:   0%|          | 0.00/878k [00:00<?, ?B/s]"
      ]
     },
     "metadata": {},
     "output_type": "display_data"
    },
    {
     "data": {
      "application/vnd.jupyter.widget-view+json": {
       "model_id": "06fb5c02f5f7458aaafc25da0c16dbbf",
       "version_major": 2,
       "version_minor": 0
      },
      "text/plain": [
       "Downloading:   0%|          | 0.00/446k [00:00<?, ?B/s]"
      ]
     },
     "metadata": {},
     "output_type": "display_data"
    },
    {
     "data": {
      "application/vnd.jupyter.widget-view+json": {
       "model_id": "dd90fce0fdf344e5a4dbba8942bca438",
       "version_major": 2,
       "version_minor": 0
      },
      "text/plain": [
       "Downloading:   0%|          | 0.00/772 [00:00<?, ?B/s]"
      ]
     },
     "metadata": {},
     "output_type": "display_data"
    }
   ],
   "source": [
    "# Creating the Q&A pipeline\n",
    "nlp = pipeline('question-answering', model='deepset/roberta-base-squad2', tokenizer='deepset/roberta-base-squad2')"
   ]
  },
  {
   "cell_type": "code",
   "execution_count": 5,
   "id": "81c3cd97",
   "metadata": {},
   "outputs": [],
   "source": [
    "# Contextual text or corpus\n",
    "wikipedia_text = \"\"\"\n",
    "Spider-Man is a superhero appearing in American comic books published by Marvel Comics. Created by writer-editor Stan Lee and artist Steve Ditko, he first appeared in the anthology comic book Amazing Fantasy #15 (August 1962) in the Silver Age of Comic Books. He has since been featured in movies, television shows, video games, and plays. Spider-Man is the alias of Peter Parker, an orphan raised by his Aunt May and Uncle Ben in New York City after his parents Richard and Mary Parker died in a plane crash. Lee and Ditko had the character deal with the struggles of adolescence and financial issues and gave him many supporting characters, such as Flash Thompson, J. Jonah Jameson and Harry Osborn, romantic interests Gwen Stacy, Mary Jane Watson and the Black Cat, and foes such as Doctor Octopus, the Green Goblin and Venom. In his origin story, he gets spider-related abilities from a bite from a radioactive spider; these include clinging to surfaces, superhuman strength and agility, and detecting danger with his \"spider-sense.\" He also builds wrist-mounted \"web-shooter\" devices that shoot artificial spider webs of his own design.\n",
    "\n",
    "When Spider-Man first appeared in the early 1960s, teenagers in superhero comic books were usually relegated to the role of sidekick to the protagonist. The Spider-Man series broke ground by featuring Peter Parker, a high school student from Queens behind Spider-Man's secret identity and with whose \"self-obsessions with rejection, inadequacy, and loneliness\" young readers could relate.[9] While Spider-Man had all the makings of a sidekick, unlike previous teen heroes such as Bucky and Robin, Spider-Man had no superhero mentor like Captain America and Batman; he thus had to learn for himself that \"with great power there must also come great responsibility\"—a line included in a text box in the final panel of the first Spider-Man story but later retroactively attributed to his guardian, his late Uncle Ben Parker.\n",
    "\"\"\""
   ]
  },
  {
   "cell_type": "code",
   "execution_count": 6,
   "id": "8a53cb00",
   "metadata": {},
   "outputs": [],
   "source": [
    "# Define question set\n",
    "question_set = {\n",
    "                'question':'Who is Spiderman\\'s enemy?', \n",
    "                'context':wikipedia_text\n",
    "               }"
   ]
  },
  {
   "cell_type": "code",
   "execution_count": 7,
   "id": "766eddae",
   "metadata": {},
   "outputs": [
    {
     "name": "stderr",
     "output_type": "stream",
     "text": [
      "c:\\users\\admin\\environment\\inje\\lib\\site-packages\\numpy\\core\\_asarray.py:83: VisibleDeprecationWarning: Creating an ndarray from ragged nested sequences (which is a list-or-tuple of lists-or-tuples-or ndarrays with different lengths or shapes) is deprecated. If you meant to do this, you must specify 'dtype=object' when creating the ndarray\n",
      "  return array(a, dtype, copy=False, order=order)\n"
     ]
    }
   ],
   "source": [
    "results = nlp(question_set)"
   ]
  },
  {
   "cell_type": "code",
   "execution_count": 8,
   "id": "74136d91",
   "metadata": {},
   "outputs": [
    {
     "data": {
      "text/plain": [
       "'Doctor Octopus, the Green Goblin and Venom'"
      ]
     },
     "execution_count": 8,
     "metadata": {},
     "output_type": "execute_result"
    }
   ],
   "source": [
    "results['answer']"
   ]
  },
  {
   "cell_type": "code",
   "execution_count": 9,
   "id": "36bafc10",
   "metadata": {},
   "outputs": [],
   "source": [
    "# Define question set\n",
    "question = {\n",
    "                'question':'Who is Spiderman?', \n",
    "                'context':wikipedia_text\n",
    "               }"
   ]
  },
  {
   "cell_type": "code",
   "execution_count": 10,
   "id": "b3f1b44c",
   "metadata": {},
   "outputs": [
    {
     "data": {
      "text/plain": [
       "{'score': 0.21874937415122986,\n",
       " 'start': 368,\n",
       " 'end': 380,\n",
       " 'answer': 'Peter Parker'}"
      ]
     },
     "execution_count": 10,
     "metadata": {},
     "output_type": "execute_result"
    }
   ],
   "source": [
    "nlp(question)"
   ]
  },
  {
   "cell_type": "code",
   "execution_count": 11,
   "id": "48b77d68",
   "metadata": {
    "collapsed": true
   },
   "outputs": [
    {
     "name": "stdout",
     "output_type": "stream",
     "text": [
      "Collecting anvil-uplink\n",
      "  Downloading anvil_uplink-0.3.42-py2.py3-none-any.whl (64 kB)\n",
      "     ---------------------------------------- 64.7/64.7 KB 1.8 MB/s eta 0:00:00\n",
      "Requirement already satisfied: future in c:\\users\\admin\\environment\\inje\\lib\\site-packages (from anvil-uplink) (0.18.2)\n",
      "Collecting argparse\n",
      "  Using cached argparse-1.4.0-py2.py3-none-any.whl (23 kB)\n",
      "Collecting ws4py\n",
      "  Downloading ws4py-0.5.1.tar.gz (51 kB)\n",
      "     ---------------------------------------- 51.4/51.4 KB ? eta 0:00:00\n",
      "  Preparing metadata (setup.py): started\n",
      "  Preparing metadata (setup.py): finished with status 'done'\n",
      "Requirement already satisfied: six in c:\\users\\admin\\environment\\inje\\lib\\site-packages (from anvil-uplink) (1.15.0)\n",
      "Building wheels for collected packages: ws4py\n",
      "  Building wheel for ws4py (setup.py): started\n",
      "  Building wheel for ws4py (setup.py): finished with status 'done'\n",
      "  Created wheel for ws4py: filename=ws4py-0.5.1-py3-none-any.whl size=45215 sha256=2a86012c84bc8439e1428cbb59cb110a3f4ecdac6b8b9498dca8934bea28c105\n",
      "  Stored in directory: c:\\users\\admin\\appdata\\local\\pip\\cache\\wheels\\ea\\f9\\a1\\34e2943cce3cf7daca304bfc35e91280694ced9194a487ce2f\n",
      "Successfully built ws4py\n",
      "Installing collected packages: ws4py, argparse, anvil-uplink\n",
      "Successfully installed anvil-uplink-0.3.42 argparse-1.4.0 ws4py-0.5.1\n"
     ]
    },
    {
     "name": "stderr",
     "output_type": "stream",
     "text": [
      "WARNING: You are using pip version 22.0.4; however, version 22.1.2 is available.\n",
      "You should consider upgrading via the 'c:\\users\\admin\\environment\\inje\\scripts\\python.exe -m pip install --upgrade pip' command.\n"
     ]
    }
   ],
   "source": [
    "!pip install anvil-uplink"
   ]
  },
  {
   "cell_type": "code",
   "execution_count": 12,
   "id": "2f7ae1ce",
   "metadata": {},
   "outputs": [],
   "source": [
    "import anvil.server"
   ]
  },
  {
   "cell_type": "code",
   "execution_count": 13,
   "id": "b84993bb",
   "metadata": {},
   "outputs": [
    {
     "name": "stdout",
     "output_type": "stream",
     "text": [
      "Connecting to wss://anvil.works/uplink\n",
      "Anvil websocket open\n",
      "Connected to \"Default environment\" as SERVER\n"
     ]
    }
   ],
   "source": [
    "anvil.server.connect('UDEF4PNLL6LR3KCJ5I45WHHC-Y6KJFMQJPCEJDEM2')"
   ]
  },
  {
   "cell_type": "code",
   "execution_count": 14,
   "id": "2cd2faae",
   "metadata": {},
   "outputs": [],
   "source": [
    "# Tells the jupyter server that this is a an Anvil callable function\n",
    "@anvil.server.callable\n",
    "# Define the function that is going to do our NLP\n",
    "def answer_questions(question_text, context_text): \n",
    "    # Convert this to a dictionary\n",
    "    question_set = {\n",
    "                'question':question_text, \n",
    "                'context':context_text\n",
    "               }\n",
    "    # Run it through the NLP pipeline\n",
    "    results = nlp(question_set)\n",
    "    \n",
    "    return results['answer']"
   ]
  },
  {
   "cell_type": "code",
   "execution_count": 16,
   "id": "9d771395",
   "metadata": {},
   "outputs": [],
   "source": [
    "anvil_result = answer_questions('Who is Spiderman\\'s enemy?', wikipedia_text)"
   ]
  },
  {
   "cell_type": "code",
   "execution_count": 17,
   "id": "0e96ce8a",
   "metadata": {},
   "outputs": [
    {
     "data": {
      "text/plain": [
       "'Doctor Octopus, the Green Goblin and Venom'"
      ]
     },
     "execution_count": 17,
     "metadata": {},
     "output_type": "execute_result"
    }
   ],
   "source": [
    "anvil_result"
   ]
  },
  {
   "cell_type": "code",
   "execution_count": null,
   "id": "2950514f",
   "metadata": {},
   "outputs": [],
   "source": [
    "# https://akbarali-first-nlp.anvil.app/"
   ]
  }
 ],
 "metadata": {
  "kernelspec": {
   "display_name": "Python 3 (ipykernel)",
   "language": "python",
   "name": "python3"
  },
  "language_info": {
   "codemirror_mode": {
    "name": "ipython",
    "version": 3
   },
   "file_extension": ".py",
   "mimetype": "text/x-python",
   "name": "python",
   "nbconvert_exporter": "python",
   "pygments_lexer": "ipython3",
   "version": "3.8.6"
  }
 },
 "nbformat": 4,
 "nbformat_minor": 5
}
